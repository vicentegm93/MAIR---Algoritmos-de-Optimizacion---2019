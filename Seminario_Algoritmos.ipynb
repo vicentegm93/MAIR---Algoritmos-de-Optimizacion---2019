{
  "nbformat": 4,
  "nbformat_minor": 0,
  "metadata": {
    "colab": {
      "name": "Seminario - Algoritmos.ipynb",
      "provenance": [],
      "collapsed_sections": [],
      "include_colab_link": true
    },
    "kernelspec": {
      "name": "python3",
      "display_name": "Python 3"
    }
  },
  "cells": [
    {
      "cell_type": "markdown",
      "metadata": {
        "id": "view-in-github",
        "colab_type": "text"
      },
      "source": [
        "<a href=\"https://colab.research.google.com/github/vicentegm93/MAIR---Algoritmos-de-Optimizacion---2019/blob/master/Seminario_Algoritmos.ipynb\" target=\"_parent\"><img src=\"https://colab.research.google.com/assets/colab-badge.svg\" alt=\"Open In Colab\"/></a>"
      ]
    },
    {
      "cell_type": "markdown",
      "metadata": {
        "id": "hVbXYX-RfPWh",
        "colab_type": "text"
      },
      "source": [
        "# Algoritmos de optimización - Seminario<br>\n",
        "Nombre y Apellidos:   <br>\n",
        "Url: https://github.com/.../03MAIR---Algoritmos-de-Optimizacion---2019/tree/master/SEMINARIO<br>\n",
        "Problema:\n",
        "> 1. Sesiones de doblaje <br>\n",
        ">2. Organizar los horarios de partidos de La Liga<br>\n",
        ">3. Combinar cifras y operaciones\n",
        "\n",
        "Descripción del problema:(copiar enunciado)\n",
        "\n",
        "....\n",
        "\n",
        "(*) La respuesta es obligatoria\n",
        "\n",
        "\n",
        "\n",
        "\n",
        "\n",
        "                                        "
      ]
    },
    {
      "cell_type": "code",
      "metadata": {
        "id": "AiskKkzZfy4e",
        "colab_type": "code",
        "colab": {}
      },
      "source": [
        ""
      ],
      "execution_count": 0,
      "outputs": []
    },
    {
      "cell_type": "markdown",
      "metadata": {
        "id": "3_-exlrTgLd-",
        "colab_type": "text"
      },
      "source": [
        "(*)¿Cuantas posibilidades hay sin tener en cuenta las restricciones?<br>\n",
        "\n",
        "\n",
        "\n",
        "¿Cuantas posibilidades hay teniendo en cuenta todas las restricciones.\n",
        "\n",
        "\n"
      ]
    },
    {
      "cell_type": "markdown",
      "metadata": {
        "id": "WfCUqJyKhPcw",
        "colab_type": "text"
      },
      "source": [
        "Respuesta"
      ]
    },
    {
      "cell_type": "code",
      "metadata": {
        "id": "iq6Fe32MgpDX",
        "colab_type": "code",
        "colab": {}
      },
      "source": [
        ""
      ],
      "execution_count": 0,
      "outputs": []
    },
    {
      "cell_type": "markdown",
      "metadata": {
        "id": "dzynfVJahHoY",
        "colab_type": "text"
      },
      "source": [
        "Modelo para el espacio de soluciones<br>\n",
        "(*) ¿Cual es la estructura de datos que mejor se adapta al problema? Argumentalo.(Es posible que hayas elegido una al principio y veas la necesidad de cambiar, arguentalo)\n"
      ]
    },
    {
      "cell_type": "markdown",
      "metadata": {
        "id": "xFIJrOwKi2Ti",
        "colab_type": "text"
      },
      "source": [
        "Respuesta"
      ]
    },
    {
      "cell_type": "code",
      "metadata": {
        "id": "38c-7-ejhJmA",
        "colab_type": "code",
        "colab": {}
      },
      "source": [
        "La estructura de datos seleccionada para dar solución al problema es una matriz de dos dimensiones.\n",
        "Esta muestra los dias en que las tomas seran grabadas, es decir, Zjk: 1 si se graba la toma j el dia k, 0 si no.\n",
        "Obtenida esta matriz podemos saber que actores necesitan ir cada día y por ende el coste total de grabar todas las tomas."
      ],
      "execution_count": 0,
      "outputs": []
    },
    {
      "cell_type": "markdown",
      "metadata": {
        "id": "7Z9U2W7bi-XS",
        "colab_type": "text"
      },
      "source": [
        "Según el modelo para el espacio de soluciones<br>\n",
        "(*)¿Cual es la función objetivo?\n",
        "\n",
        "(*)¿Es un problema de maximización o minimización?"
      ]
    },
    {
      "cell_type": "markdown",
      "metadata": {
        "id": "hBalWLM7j1_d",
        "colab_type": "text"
      },
      "source": [
        "Respuesta"
      ]
    },
    {
      "cell_type": "code",
      "metadata": {
        "id": "pDA-rg3Gj5Lz",
        "colab_type": "code",
        "colab": {}
      },
      "source": [
        "La función objetivo es MINIMIZAR la cantidad de dias que los actores deben asistir a grabar\n",
        "Antes de haber subido la plantilla intente modelar el problema, definiendo su f.o sus variables y restricciones, lo dejo a continuación....\n",
        "\n",
        "Parámetros:\n",
        "- Aij : 1 si el actor i participa en la toma j, 0 si no \n",
        "\n",
        "Variables:\n",
        "\n",
        "- Zjk: 1 si se graba la toma j el dia k, 0 si no\n",
        "- Yik: 1 si el actor i asiste el día k a grabar\n",
        "\n",
        "Conjutos:\n",
        "\n",
        "- I: conjunto de actores\n",
        "- J: conjunto de tomas\n",
        "- K: conjunto de días\n",
        "\n",
        "Función objetivo:\n",
        "\n",
        "- Minimizar sumi sumk  Yik\n",
        "\n",
        "Restricciones:\n",
        "\n",
        "- sumk Zjk= 1 para todas las tomas pertenecientes J    ---- las tomas pueden ser tomadas un solo día\n",
        "\n",
        "- sumj Zjk <= 6 para todos los días pertenecientes K ---- se pueden tomar máximo 6 tomas por día\n",
        "\n",
        "- sum  Zjk*Aij <= Yik  para todos los actores I,  para todos los días K, para todas las tomas J ----- si se graba una toma un día entonces los actores de esa toma deben ir ese día\n",
        "\n",
        "- Zjk e (0,1)  para todo las tomas perteneciente J y para todos los dias pertenecientes a K  ---- restricción de dominio\n"
      ],
      "execution_count": 0,
      "outputs": []
    },
    {
      "cell_type": "markdown",
      "metadata": {
        "id": "rlnTYgY1j6I2",
        "colab_type": "text"
      },
      "source": [
        "Diseña un algoritmo para resolver el problema por fuerza bruta"
      ]
    },
    {
      "cell_type": "markdown",
      "metadata": {
        "id": "70rDgxYXkC8r",
        "colab_type": "text"
      },
      "source": [
        "Respuesta"
      ]
    },
    {
      "cell_type": "code",
      "metadata": {
        "id": "CJb5sQ0qkENy",
        "colab_type": "code",
        "colab": {}
      },
      "source": [
        ""
      ],
      "execution_count": 0,
      "outputs": []
    },
    {
      "cell_type": "markdown",
      "metadata": {
        "id": "tgrnsC2nkFa8",
        "colab_type": "text"
      },
      "source": [
        "Calcula la complejidad del algoritmo por fuerza bruta"
      ]
    },
    {
      "cell_type": "markdown",
      "metadata": {
        "id": "9eUd3xwckP68",
        "colab_type": "text"
      },
      "source": [
        "Respuesta"
      ]
    },
    {
      "cell_type": "code",
      "metadata": {
        "id": "rvZWwL-ckRST",
        "colab_type": "code",
        "colab": {}
      },
      "source": [
        ""
      ],
      "execution_count": 0,
      "outputs": []
    },
    {
      "cell_type": "markdown",
      "metadata": {
        "id": "txbrmLmskReM",
        "colab_type": "text"
      },
      "source": [
        "(*)Diseña un algoritmo que mejore la complejidad del algortimo por fuerza bruta. Argumenta porque crees que mejora el algoritmo por fuerza bruta"
      ]
    },
    {
      "cell_type": "markdown",
      "metadata": {
        "id": "hLrVwt5QkZPD",
        "colab_type": "text"
      },
      "source": [
        "Respuesta"
      ]
    },
    {
      "cell_type": "code",
      "metadata": {
        "id": "m1eyM21Vkabg",
        "colab_type": "code",
        "colab": {}
      },
      "source": [
        ""
      ],
      "execution_count": 0,
      "outputs": []
    },
    {
      "cell_type": "markdown",
      "metadata": {
        "id": "eGDB4K6uk1iN",
        "colab_type": "text"
      },
      "source": [
        "(*)Calcula la complejidad del algoritmo "
      ]
    },
    {
      "cell_type": "markdown",
      "metadata": {
        "id": "NhpTh_BPk1ms",
        "colab_type": "text"
      },
      "source": [
        "Respuesta"
      ]
    },
    {
      "cell_type": "code",
      "metadata": {
        "id": "nREzhkStlCq8",
        "colab_type": "code",
        "colab": {}
      },
      "source": [
        ""
      ],
      "execution_count": 0,
      "outputs": []
    },
    {
      "cell_type": "markdown",
      "metadata": {
        "id": "3M6QjTsSkmYe",
        "colab_type": "text"
      },
      "source": [
        "Según el problema (y tenga sentido), diseña un juego de datos de entrada aleatorios"
      ]
    },
    {
      "cell_type": "markdown",
      "metadata": {
        "id": "Jc3_OlyNkvjZ",
        "colab_type": "text"
      },
      "source": [
        "Respuesta"
      ]
    },
    {
      "cell_type": "code",
      "metadata": {
        "id": "sJ-N2etjkyWc",
        "colab_type": "code",
        "colab": {}
      },
      "source": [
        "Antes de haber recibido la plantilla, diseño un algoritmo 100% aleatorio para generar soluciones iniciales \n",
        "\n",
        "A continuación dejo el algoritmo con la solucion inicial "
      ],
      "execution_count": 0,
      "outputs": []
    },
    {
      "cell_type": "code",
      "metadata": {
        "id": "Z4Xh-0xQBUjO",
        "colab_type": "code",
        "colab": {}
      },
      "source": [
        "def generardorSolucion():\n",
        "    #genero una matriz la cual guardará que días se grabaran las tomas. \n",
        "    solucion=np.zeros((30,5))\n",
        "    for j in range (5):\n",
        "        cumple=False\n",
        "        while cumple==False:\n",
        "            for i in range (30):\n",
        "                #Agrego la componente random para decidir si realizar la toma i en el día j. \n",
        "                # El valor para aceptarlo lo decidi ya que para valores cercanos al 0.5 el algoritmo tomaba las primeras tomas\n",
        "                #en los primeros días en la mayoría de las veces por lo que había poca variabilidad \"se estancaba facilmente\"\n",
        "                #Además se agrego la condición de que si la toma ya había asignada a un día esta no fuera asignada a otro\n",
        "                if random.random()<0.3 and  solucion[i,:].sum()==0:\n",
        "                    solucion[i][j]=1\n",
        "                    #Acá verifico que si es que el día tiene 6 tomas asignadas, entonces salga del ciclo for y siga con otro día\n",
        "                    if solucion[:,j].sum()==6:\n",
        "                        break\n",
        "            #Como tome la determinación de bajar la probabilidad de que una toma fuera asignada a un día, para aumentar la\n",
        "            #variabilidad, ocurre que muchos días quedan asignados con 1 toma lo que obviamente es ineficiente.\n",
        "            #para evitar a esto fuerzo al algoritmo a que asigne 6 tomas por día\n",
        "            if solucion[:,j].sum()==6:\n",
        "                cumple=True\n",
        "    return solucion\n",
        "\n",
        "def costo(solucion,parametros):\n",
        "    fo=0\n",
        "    #Verifico las tomas para cada día\n",
        "    for j in range (5):\n",
        "        asistencia=np.zeros(10)\n",
        "        tomas=np.array(np.where(solucion[:,j]==1))\n",
        "        #sumo la prescencia de los actores en todas las tomas que participan\n",
        "        for i in range(len(tomas[0])):\n",
        "            asistencia=asistencia+parametros[int(tomas[0][i])-1,1:]\n",
        "        #como el costo es el mismo para cada actor para un mismo día independiente de la cantidad de tomas en las que participe, solo \n",
        "        #cuento en donde haya estado el actor en al menos una escena y lo sumo al valor de la fo\n",
        "        c=np.count_nonzero(asistencia)\n",
        "        fo+=c    \n",
        "    return fo\n",
        "\n",
        "def busquedaAleatoria(parametros,iteraciones):\n",
        "    mejorSolucion=[]\n",
        "    #Pongo un valor muy alto para realizar la primera comparación de fo.\n",
        "    mejorFO=10e100\n",
        "    for i in range(iteraciones):\n",
        "        solucion=generardorSolucion()\n",
        "        fo=costo(solucion,parametros)\n",
        "        if mejorFO>fo:\n",
        "            mejorFO=fo\n",
        "            mejorSolucion=solucion\n",
        "    return mejorFO,mejorSolucion\n",
        "\n",
        "fo,solucion=busquedaAleatoria(parametros,5000)"
      ],
      "execution_count": 0,
      "outputs": []
    },
    {
      "cell_type": "markdown",
      "metadata": {
        "id": "zy5ZROmjlGo1",
        "colab_type": "text"
      },
      "source": [
        "Aplica el algoritmo al juego de datos generado"
      ]
    },
    {
      "cell_type": "markdown",
      "metadata": {
        "id": "_Cmj-PVylMsa",
        "colab_type": "text"
      },
      "source": [
        "Respuesta"
      ]
    },
    {
      "cell_type": "code",
      "metadata": {
        "id": "Jkx8GeiYlUz1",
        "colab_type": "code",
        "colab": {}
      },
      "source": [
        ""
      ],
      "execution_count": 0,
      "outputs": []
    },
    {
      "cell_type": "markdown",
      "metadata": {
        "colab_type": "text",
        "id": "eTFWUJQrtGcv"
      },
      "source": [
        "Enumera las referencias que has utilizado(si ha sido necesario) para llevar a cabo el trabajo"
      ]
    },
    {
      "cell_type": "markdown",
      "metadata": {
        "id": "YKQ_mRBttWsP",
        "colab_type": "text"
      },
      "source": [
        "Respuesta"
      ]
    },
    {
      "cell_type": "markdown",
      "metadata": {
        "id": "kAkDPUyRtYyH",
        "colab_type": "text"
      },
      "source": [
        "Describe brevemente las lineas de como crees que es posible avanzar en el estudio del problema. Ten en cuenta incluso posibles variaciones del problema y/o variaciones al alza del tamaño"
      ]
    },
    {
      "cell_type": "markdown",
      "metadata": {
        "id": "IE0uZmo-tZu-",
        "colab_type": "text"
      },
      "source": [
        "Respuesta"
      ]
    }
  ]
}
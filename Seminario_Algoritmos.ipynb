{
  "nbformat": 4,
  "nbformat_minor": 0,
  "metadata": {
    "colab": {
      "name": "Seminario - Algoritmos.ipynb",
      "provenance": [],
      "collapsed_sections": [],
      "include_colab_link": true
    },
    "kernelspec": {
      "name": "python3",
      "display_name": "Python 3"
    }
  },
  "cells": [
    {
      "cell_type": "markdown",
      "metadata": {
        "id": "view-in-github",
        "colab_type": "text"
      },
      "source": [
        "<a href=\"https://colab.research.google.com/github/vicentegm93/MAIR---Algoritmos-de-Optimizacion---2019/blob/master/Seminario_Algoritmos.ipynb\" target=\"_parent\"><img src=\"https://colab.research.google.com/assets/colab-badge.svg\" alt=\"Open In Colab\"/></a>"
      ]
    },
    {
      "cell_type": "markdown",
      "metadata": {
        "id": "hVbXYX-RfPWh",
        "colab_type": "text"
      },
      "source": [
        "# Algoritmos de optimización - Seminario<br>\n",
        "Nombre y Apellidos: Vicente González  <br>\n",
        "Url: https://colab.research.google.com/github/vicentegm93/MAIR---Algoritmos-de-Optimizacion---2019/blob/master/Seminario_Algoritmos.ipynb<br>\n",
        "Problema:\n",
        "> 1. Sesiones de doblaje <br>\n",
        "\n",
        "\n",
        "Descripción del problema:\n",
        "\n",
        "Se precisa coordinar el doblaje de una película. Los actores del doblaje deben coincidir en las\n",
        "tomas en las que sus personajes aparecen juntos en las diferentes tomas. Los actores de\n",
        "doblaje cobran todos la misma cantidad por cada día que deben desplazarse hasta el estudio\n",
        "de grabación independientemente del número de tomas que se graben. No es posible grabar\n",
        "más de 6 tomas por día. El objetivo es planificar las sesiones por día de manera que se gasto\n",
        "por los servicios de los actores de doblaje sea el menor posible.\n",
        "\n",
        "(*) La respuesta es obligatoria\n",
        "\n",
        "\n",
        "\n",
        "\n",
        "\n",
        "                                        "
      ]
    },
    {
      "cell_type": "code",
      "metadata": {
        "id": "AiskKkzZfy4e",
        "colab_type": "code",
        "colab": {}
      },
      "source": [
        "import numpy as np\n",
        "from numpy import genfromtxt\n",
        "import random\n",
        "import pandas as pd\n",
        "import math\n",
        "\n",
        "parametros=np.array([[ 1.,  1.,  1.,  1.,  1.,  1.,  0.,  0.,  0.,  0.,  0.],\n",
        "       [ 2.,  0.,  0.,  1.,  1.,  1.,  0.,  0.,  0.,  0.,  0.],\n",
        "       [ 3.,  0.,  1.,  0.,  0.,  1.,  0.,  1.,  0.,  0.,  0.],\n",
        "       [ 4.,  1.,  1.,  0.,  0.,  0.,  0.,  1.,  1.,  0.,  0.],\n",
        "       [ 5.,  0.,  1.,  0.,  1.,  0.,  0.,  0.,  1.,  0.,  0.],\n",
        "       [ 6.,  1.,  1.,  0.,  1.,  1.,  0.,  0.,  0.,  0.,  0.],\n",
        "       [ 7.,  1.,  1.,  0.,  1.,  1.,  0.,  0.,  0.,  0.,  0.],\n",
        "       [ 8.,  1.,  1.,  0.,  0.,  0.,  1.,  0.,  0.,  0.,  0.],\n",
        "       [ 9.,  1.,  1.,  0.,  1.,  0.,  0.,  0.,  0.,  0.,  0.],\n",
        "       [10.,  1.,  1.,  0.,  0.,  0.,  1.,  0.,  0.,  1.,  0.],\n",
        "       [11.,  1.,  1.,  1.,  0.,  1.,  0.,  0.,  1.,  0.,  0.],\n",
        "       [12.,  1.,  1.,  1.,  1.,  0.,  1.,  0.,  0.,  0.,  0.],\n",
        "       [13.,  1.,  0.,  0.,  1.,  1.,  0.,  0.,  0.,  0.,  0.],\n",
        "       [14.,  1.,  0.,  1.,  0.,  0.,  1.,  0.,  0.,  0.,  0.],\n",
        "       [15.,  1.,  1.,  0.,  0.,  0.,  0.,  1.,  0.,  0.,  0.],\n",
        "       [16.,  0.,  0.,  0.,  1.,  0.,  0.,  0.,  0.,  0.,  1.],\n",
        "       [17.,  1.,  0.,  1.,  0.,  0.,  0.,  0.,  0.,  0.,  0.],\n",
        "       [18.,  0.,  0.,  1.,  0.,  0.,  1.,  0.,  0.,  0.,  0.],\n",
        "       [19.,  1.,  0.,  1.,  0.,  0.,  0.,  0.,  0.,  0.,  0.],\n",
        "       [20.,  1.,  0.,  1.,  1.,  1.,  0.,  0.,  0.,  0.,  0.],\n",
        "       [21.,  0.,  0.,  0.,  0.,  0.,  1.,  0.,  1.,  0.,  0.],\n",
        "       [22.,  1.,  1.,  1.,  1.,  0.,  0.,  0.,  0.,  0.,  0.],\n",
        "       [23.,  1.,  0.,  1.,  0.,  0.,  0.,  0.,  0.,  0.,  0.],\n",
        "       [24.,  0.,  0.,  1.,  0.,  0.,  1.,  0.,  0.,  0.,  0.],\n",
        "       [25.,  1.,  1.,  0.,  1.,  0.,  0.,  0.,  0.,  0.,  1.],\n",
        "       [26.,  1.,  0.,  1.,  0.,  1.,  0.,  0.,  0.,  1.,  0.],\n",
        "       [27.,  0.,  0.,  0.,  1.,  1.,  0.,  0.,  0.,  0.,  0.],\n",
        "       [28.,  1.,  0.,  0.,  1.,  0.,  0.,  0.,  0.,  0.,  0.],\n",
        "       [29.,  1.,  0.,  0.,  0.,  1.,  1.,  0.,  0.,  0.,  0.],\n",
        "       [30.,  1.,  0.,  0.,  1.,  0.,  0.,  0.,  0.,  0.,  0.]])"
      ],
      "execution_count": 0,
      "outputs": []
    },
    {
      "cell_type": "markdown",
      "metadata": {
        "id": "3_-exlrTgLd-",
        "colab_type": "text"
      },
      "source": [
        "1.(*)¿Cuantas posibilidades hay sin tener en cuenta las restricciones?<br>\n",
        "\n",
        "\n",
        "\n",
        "¿Cuantas posibilidades hay teniendo en cuenta todas las restricciones.\n",
        "\n",
        "\n"
      ]
    },
    {
      "cell_type": "markdown",
      "metadata": {
        "id": "WfCUqJyKhPcw",
        "colab_type": "text"
      },
      "source": [
        "Respuesta"
      ]
    },
    {
      "cell_type": "markdown",
      "metadata": {
        "id": "WVb1MFJGbvNn",
        "colab_type": "text"
      },
      "source": [
        "Suponiendo que vamos a distribuir las tomas en a lo más de los 5 días, ya que de otra forma la cantidad de posibilidades sería infinitas, el número de posibilidades sería.\n",
        "\n",
        "5^30   --- maxdías^(número de tomas)"
      ]
    },
    {
      "cell_type": "markdown",
      "metadata": {
        "id": "dzynfVJahHoY",
        "colab_type": "text"
      },
      "source": [
        "2.Modelo para el espacio de soluciones<br>\n",
        "(*) ¿Cual es la estructura de datos que mejor se adapta al problema? Argumentalo.(Es posible que hayas elegido una al principio y veas la necesidad de cambiar, arguentalo)\n"
      ]
    },
    {
      "cell_type": "markdown",
      "metadata": {
        "id": "xFIJrOwKi2Ti",
        "colab_type": "text"
      },
      "source": [
        "Respuesta"
      ]
    },
    {
      "cell_type": "markdown",
      "metadata": {
        "id": "rL2dQxZab13s",
        "colab_type": "text"
      },
      "source": [
        "La estructura de datos seleccionada para dar solución al problema es una matriz de dos dimensiones.    \n",
        "Esta muestra los días en que las tomas seran grabadas, es decir, Zjk: 1 si se graba la toma j el dia k, 0 si no.    \n",
        "Obtenida esta matriz podemos saber que tomas se grabaran cada día. Sabiendo que toma se grabara cadad día sabremos que actores necesitarán ir, ya que \n",
        "tenemos la matriz \"parametros\" la que tiene como información que actores necesita cada toma.    \n",
        "Haciendo el cruze de estas dos tablas sabremos que días tendrán que asistir cada uno de los actores."
      ]
    },
    {
      "cell_type": "markdown",
      "metadata": {
        "id": "7Z9U2W7bi-XS",
        "colab_type": "text"
      },
      "source": [
        "3.## Según el modelo para el espacio de soluciones<br>\n",
        "(*)¿Cual es la función objetivo?\n",
        "\n",
        "(*)¿Es un problema de maximización o minimización?"
      ]
    },
    {
      "cell_type": "markdown",
      "metadata": {
        "id": "hBalWLM7j1_d",
        "colab_type": "text"
      },
      "source": [
        "Respuesta"
      ]
    },
    {
      "cell_type": "markdown",
      "metadata": {
        "id": "AN1Dpb5ucIuk",
        "colab_type": "text"
      },
      "source": [
        "La función objetivo es MINIMIZAR la cantidad de dias que los actores deben asistir a grabar.   \n",
        "Antes de haber subido la plantilla intente modelar el problema, definiendo su f.o sus variables y restricciones, lo dejo a continuación....\n",
        "\n",
        "Parámetros:\n",
        "- Aij : 1 si el actor i participa en la toma j, 0 si no \n",
        "\n",
        "Variables:\n",
        "\n",
        "- Zjk: 1 si se graba la toma j el dia k, 0 si no\n",
        "- Yik: 1 si el actor i asiste el día k a grabar\n",
        "\n",
        "Conjutos:\n",
        "\n",
        "- I: conjunto de actores\n",
        "- J: conjunto de tomas\n",
        "- K: conjunto de días\n",
        "\n",
        "Función objetivo:\n",
        "\n",
        "- Minimizar sumi sumk  Yik\n",
        "\n",
        "Restricciones:\n",
        "\n",
        "- sumk Zjk= 1 para todas las tomas pertenecientes J    ---- las tomas pueden ser tomadas un solo día\n",
        "\n",
        "- sumj Zjk <= 6 para todos los días pertenecientes K ---- se pueden tomar máximo 6 tomas por día\n",
        "\n",
        "- sum  Zjk*Aij <= Yik  para todos los actores I,  para todos los días K, para todas las tomas J ----- si se graba una toma un día entonces los actores de esa toma deben ir ese día\n",
        "\n",
        "- Zjk e (0,1)  para todo las tomas perteneciente J y para todos los dias pertenecientes a K  ---- restricción de dominio"
      ]
    },
    {
      "cell_type": "markdown",
      "metadata": {
        "id": "rlnTYgY1j6I2",
        "colab_type": "text"
      },
      "source": [
        "4.Diseña un algoritmo para resolver el problema por fuerza bruta"
      ]
    },
    {
      "cell_type": "markdown",
      "metadata": {
        "id": "70rDgxYXkC8r",
        "colab_type": "text"
      },
      "source": [
        "Respuesta"
      ]
    },
    {
      "cell_type": "code",
      "metadata": {
        "id": "CJb5sQ0qkENy",
        "colab_type": "code",
        "colab": {}
      },
      "source": [
        ""
      ],
      "execution_count": 0,
      "outputs": []
    },
    {
      "cell_type": "markdown",
      "metadata": {
        "id": "tgrnsC2nkFa8",
        "colab_type": "text"
      },
      "source": [
        "5.Calcula la complejidad del algoritmo por fuerza bruta"
      ]
    },
    {
      "cell_type": "markdown",
      "metadata": {
        "id": "9eUd3xwckP68",
        "colab_type": "text"
      },
      "source": [
        "Respuesta"
      ]
    },
    {
      "cell_type": "markdown",
      "metadata": {
        "id": "euf4ps1Ogons",
        "colab_type": "text"
      },
      "source": [
        "El algoritmo sería de orden exponencial, con n igual a la cantidad de días como máximo que podríamos grabar las tomas"
      ]
    },
    {
      "cell_type": "code",
      "metadata": {
        "id": "rvZWwL-ckRST",
        "colab_type": "code",
        "colab": {}
      },
      "source": [
        ""
      ],
      "execution_count": 0,
      "outputs": []
    },
    {
      "cell_type": "markdown",
      "metadata": {
        "id": "txbrmLmskReM",
        "colab_type": "text"
      },
      "source": [
        "6.(*)Diseña un algoritmo que mejore la complejidad del algortimo por fuerza bruta. Argumenta porque crees que mejora el algoritmo por fuerza bruta"
      ]
    },
    {
      "cell_type": "markdown",
      "metadata": {
        "id": "hLrVwt5QkZPD",
        "colab_type": "text"
      },
      "source": [
        "Respuesta"
      ]
    },
    {
      "cell_type": "markdown",
      "metadata": {
        "id": "zpJc7jbUcTFm",
        "colab_type": "text"
      },
      "source": [
        "Encontré un paper de una metaheruistica poblacional que se basa en como cazan los lobos grises (dejo link de paper en referencia).    \n",
        "Este paper esta basado en resolver el problema de la mochila, sin embargo, realice las adaptaciones para este problema.    \n",
        "Realizaré una breve explicación de este paper y también a través del código iré comentando.    \n",
        "Los lobos grises cazan en manada, manada que posee una jerarquía. Existen 3 lobos líderes (a,b,g) que son los que más influyen en la caza de la presa, el resto simplemente ayuda en la búsqueda.    \n",
        "En la metaheurística esto se ve reflejado en que cada lobo representa una posible solución, así se puede definir que los lobos líderes son los lobos que poseen la mejor F.O, quienes influenciarán de mayor forma en la solución.    \n",
        "Para tomar la decision de donde esta la presa, se realiza una combinación entre las posiciones (soluciones) de los 3 lobos líderes mediante la suma de cada posición de los lobos.    \n",
        "Estas posiciones están ponderadas por su jerarquía (calidad de la solución).\n",
        "Evidentemente la suma de las soluciones darán soluciones fuera del espacio de solución 0,1. Es por ello que se debe realizar una binarización de las soluciones (no analizeen profundidad la técnica, ya que no me dio el tiempo. Preferí centrarme en entender la metaheurística).    \n",
        "Si bien se cumple con soluciones dentro del espacio 0,1, aún así se generan soluciones infactibles. Para tratar las soluciones infactibles se prefierío repararlas, ya que el descarte así que se analizarán muy pocas soluciones, debido a que era muy difícil cumplir con las restricciones.    \n",
        "\n",
        "A continuación dejo el código del problema el cual lo iré comentando a medida que lo vaya desarrollando.    \n",
        "\n",
        "El algoritmo es mejor que el de fuerza bruta ya que reduce su complejidad, y converge en general mucho más rápido a soluciones mejores.\n",
        "En otras palabras con el algoritmo de fuerza bruta podría darse el caso que llevemos inspeccionando 1000 soluciones con una muy mala f.o, en el caso contrario, el algoritmo propuesto, la población va construyendo soluciones mejores a medida que itera. En el peor de los casos se nos podría quedar estancado en un cierto valor y esto debiese suceder en un valor bueno, si es que el algoritmo esta bien diseñado.\n",
        "Sin embargo, lo más importante es que a través del algoritmo propuesto podemos llegar a alguna solución (independiente de su calidad) mientras que en el de fuerza bruta no debido a la complejidad que tiene."
      ]
    },
    {
      "cell_type": "code",
      "metadata": {
        "id": "9v5eU8NwJzJg",
        "colab_type": "code",
        "colab": {}
      },
      "source": [
        "#El algoritmo requiere comenzar con una solución inicial, al tratarse de una metaheurística poblacional a la función le pasaré como parámetro\n",
        "# la cantidad de lobos (tamaño de la población). Cabe considerar que el algoritmo fue programado para realizarse con un mínimo de 3 lobos.\n",
        "def generadorSolucion(lobos):\n",
        "    soluciones=[]\n",
        "    for i in range (lobos):\n",
        "        #genero una matriz la cual guardará que días se grabaran las tomas. \n",
        "        solucion=np.zeros((30,5))\n",
        "        for j in range (5):\n",
        "            cumple=False\n",
        "            while cumple==False:\n",
        "                for i in range (30):\n",
        "                #Agrego la componente random para decidir si realizar la toma i en el día j. \n",
        "                # El valor para aceptarlo lo decidi ya que para valores cercanos al 0.5 el algoritmo tomaba las primeras tomas\n",
        "                #en los primeros días en la mayoría de las veces por lo que había poca variabilidad \"se estancaba facilmente\"\n",
        "                #Además se agrego la condición de que si la toma ya había asignada a un día esta no fuera asignada a otro\n",
        "                    if random.random()<0.3 and  solucion[i,:].sum()==0:\n",
        "                        solucion[i][j]=1\n",
        "                    #Acá verifico que si es que el día tiene 6 tomas asignadas, entonces salga del ciclo for y siga con otro día\n",
        "                        if solucion[:,j].sum()==6:\n",
        "                            break\n",
        "            #Como tome la determinación de bajar la probabilidad de que una toma fuera asignada a un día, para aumentar la\n",
        "            #variabilidad, ocurre que muchos días quedan asignados con 1 toma lo que obviamente es ineficiente.\n",
        "            #para evitar a esto fuerzo al algoritmo a que asigne 6 tomas por día\n",
        "                if solucion[:,j].sum()==6:\n",
        "                    cumple=True\n",
        "        #A cada solucion adjunto su costo, ya que en el algoritmo lo utilizaré para ordenar las soluciones de acuerdo a su fo\n",
        "        solucion=solucion,costo(solucion,parametros)\n",
        "        soluciones.append(solucion)\n",
        "        # retorno la lista con lobos\n",
        "    return soluciones\n",
        "\n",
        "def costo(solucion,parametros):\n",
        "    fo=0\n",
        "    #Verifico las tomas para cada día\n",
        "    for j in range (5):\n",
        "        asistencia=np.zeros(10)\n",
        "        tomas=np.array(np.where(solucion[:,j]==1))\n",
        "        #sumo la prescencia de los actores en todas las tomas que participan\n",
        "        for i in range(len(tomas[0])):\n",
        "            asistencia=asistencia+parametros[int(tomas[0][i])-1,1:]\n",
        "        #como el costo es el mismo para cada actor para un mismo día independiente de la cantidad de tomas en las que participe, solo \n",
        "        #cuento en donde haya estado el actor en al menos una escena y lo sumo al valor de la fo\n",
        "        c=np.count_nonzero(asistencia)\n",
        "        fo+=c    \n",
        "    return fo\n",
        "\n",
        "def posicionPresa(listaLobos,t,iteraciones):\n",
        "    #El algoritmo decide la posicion de la presa en base a la posición de los 3 lobos líderes (las 3 soluciones de mayor calidad)\n",
        "    #para eso ordeno la lista de menor a mayor, ya que se trata de un problema de optimización\n",
        "    listaLobos.sort(key=lambda x: x[1],reverse=False)\n",
        "    #La jerarquía de estos lobos se tiene que ver reflejada de alguna forma, para eso se realiza una ponderación entre el valor de las 3 fo\n",
        "    suma=listaLobos[0][1]+listaLobos[1][1]+listaLobos[2][1]\n",
        "    wa= listaLobos[0][1]/suma\n",
        "    wb= listaLobos[1][1]/suma\n",
        "    wc= listaLobos[2][1]/suma\n",
        "    #obtenida esta ponderación se multiplica por la solucion de cada uno de los lobos y se suma.\n",
        "    #Existe una componen matematica que no me detuve a analizar por tiempo.\n",
        "    posicionPresa= wa*listaLobos[0][0]+wb*listaLobos[1][0]+wc*listaLobos[2][0] + math.exp(-100*(t/iteraciones))\n",
        "    #retornamos la posición de la presa que no tiene valores reales, por lo que tendrá que ser reparada más adelante\n",
        "    return posicionPresa\n",
        "\n",
        "def generadorSoluciondePrueba(posicionPresa,posicionLobo):\n",
        "   # el algoritmo analiza a cada lobo con respecto a la posicion de la presa, en base a esto se genera una solucion de prueba la cual \n",
        "   #será comparada con la posicion de los lideres\n",
        "    solucionPrueba=np.zeros((30,5))\n",
        "    j=0\n",
        "    for i in range(len(posicionPresa)):\n",
        "        for j in range(len(posicionPresa[0])):\n",
        "          #mediante esta formula propuesta por el autor del paper se estima un valor y correspondiente en este caso a si agregamos o no la toma j al dia i\n",
        "            y = posicionPresa[i][j]-random.uniform(-2,2)* abs(posicionPresa[i][j]-posicionLobo[i][j])\n",
        "            # se añade un valor aleatorio para saber si agregamos o no esta toma a este día\n",
        "            #además yo agregue dos condiciones para poder cumplir con las restricciones.\n",
        "            # en resumen, agregaremos si la probabilidad se cumple, si no ha sido agregado esa toma anteriormente y si en ese día no hay más de 5 tomas\n",
        "            if (random.uniform(0,1) < abs(np.tanh(y)) and solucionPrueba[i,:].sum()==0 and solucionPrueba[:,j].sum()<=5):\n",
        "                solucionPrueba[i][j]=1\n",
        "            else:\n",
        "                solucionPrueba[i][j]=0\n",
        "    return solucionPrueba \n",
        "\n",
        "def reparacion(solucionPrueba):\n",
        "  #A pesar de que validamos que no se violen las restricciones puede ocurrir que no se hayan añadido las 30 tomas, para ello usaremos esta función de reparación,\n",
        "  #la cual agregará eventualmente las tomas que no fueron agregadas.\n",
        "    for j in range(5):\n",
        "            for i in range(30):\n",
        "                if solucionPrueba[:,j].sum()<=5:\n",
        "                    if solucionPrueba[i,:].sum()==0:\n",
        "                        solucionPrueba[i,j]=1\n",
        "                else:\n",
        "                    break\n",
        "    solucionPrueba=solucionPrueba,costo(solucionPrueba,parametros)\n",
        "    return solucionPrueba\n",
        "\n",
        "def resolucion(iteraciones,lobos):\n",
        "  #el algoritmo al ser población requiere de una población inicial para ser ejecutado. Cabe destacar que fue programado para funcionar con un mínimo de 3 lobos.\n",
        "    listaLobos=generadorSolucion(lobos)\n",
        "    for t in range(iteraciones):\n",
        "        presa=posicionPresa(listaLobos,t,iteraciones) #estimo posición presa\n",
        "        for k in range (lobos):\n",
        "            solucionPrueba=generadorSoluciondePrueba(presa,listaLobos[k][0]) #genero solución de prueba\n",
        "            solucionCorregida=reparacion(solucionPrueba) #reparo la solución de prueba\n",
        "            if solucionCorregida[1] < listaLobos[k][1]: #si solución de prueba corregida tiene mejor F.O que lobo actual lo reemplazo\n",
        "                listaLobos[k]=solucionCorregida\n",
        "                if listaLobos[k][1]<listaLobos[0][1]: #si lobo actual tiene mejor F.O que lobo líder actualizo lobo líder\n",
        "                    listaLobos[0]=listaLobos[k]\n",
        "                elif listaLobos[k][1]<listaLobos[1][1]: #si lobo actual tiene mejor F.O que 2do lobo líder actualizo 2do lobo líder\n",
        "                    listaLobos[1]=listaLobos[k]\n",
        "                elif listaLobos[k][1]<listaLobos[2][1]:#si lobo actual tiene mejor F.O que 3er lobo líder actualizo 2do lobo líder\n",
        "                    listaLobos[2]=listaLobos[k]\n",
        "            elif k!=0 and k!=1 and k!=2: #si el lobo actual no es líder, se actualiza la posición del lobo actual con la solución corregida\n",
        "                listaLobos[k]=solucionCorregida\n",
        "    return listaLobos[0]"
      ],
      "execution_count": 0,
      "outputs": []
    },
    {
      "cell_type": "markdown",
      "metadata": {
        "id": "eGDB4K6uk1iN",
        "colab_type": "text"
      },
      "source": [
        "7.# (*)Calcula la complejidad del algoritmo "
      ]
    },
    {
      "cell_type": "markdown",
      "metadata": {
        "id": "NhpTh_BPk1ms",
        "colab_type": "text"
      },
      "source": [
        "Respuesta"
      ]
    },
    {
      "cell_type": "markdown",
      "metadata": {
        "id": "nIA-iWjncluG",
        "colab_type": "text"
      },
      "source": [
        "La complejidad del algoritmo es O(n^2)"
      ]
    },
    {
      "cell_type": "markdown",
      "metadata": {
        "id": "3M6QjTsSkmYe",
        "colab_type": "text"
      },
      "source": [
        "8.Según el problema (y tenga sentido), diseña un juego de datos de entrada aleatorios"
      ]
    },
    {
      "cell_type": "markdown",
      "metadata": {
        "id": "Jc3_OlyNkvjZ",
        "colab_type": "text"
      },
      "source": [
        "Respuesta"
      ]
    },
    {
      "cell_type": "markdown",
      "metadata": {
        "id": "y3Qx1d7ScpgF",
        "colab_type": "text"
      },
      "source": [
        "La función generadorSolucion(lobos) descrita anteriormente genera aleatoriamente una población (datos de entrada para el problema)"
      ]
    },
    {
      "cell_type": "markdown",
      "metadata": {
        "id": "zy5ZROmjlGo1",
        "colab_type": "text"
      },
      "source": [
        "Aplica el algoritmo al juego de datos generado"
      ]
    },
    {
      "cell_type": "markdown",
      "metadata": {
        "id": "_Cmj-PVylMsa",
        "colab_type": "text"
      },
      "source": [
        "Respuesta"
      ]
    },
    {
      "cell_type": "code",
      "metadata": {
        "id": "Jkx8GeiYlUz1",
        "colab_type": "code",
        "colab": {}
      },
      "source": [
        "s=resolucion(100,8)"
      ],
      "execution_count": 0,
      "outputs": []
    },
    {
      "cell_type": "code",
      "metadata": {
        "id": "QToupsuwWufP",
        "colab_type": "code",
        "colab": {
          "base_uri": "https://localhost:8080/",
          "height": 34
        },
        "outputId": "df27adbc-ac41-4a85-ad4b-41c754d2314f"
      },
      "source": [
        "#El valor de la F.O es:\n",
        "s[1]"
      ],
      "execution_count": 30,
      "outputs": [
        {
          "output_type": "execute_result",
          "data": {
            "text/plain": [
              "31"
            ]
          },
          "metadata": {
            "tags": []
          },
          "execution_count": 30
        }
      ]
    },
    {
      "cell_type": "code",
      "metadata": {
        "id": "Jo-SfoMUWy1v",
        "colab_type": "code",
        "colab": {
          "base_uri": "https://localhost:8080/",
          "height": 521
        },
        "outputId": "722a1111-0813-487d-dd4c-e9a43549b5ba"
      },
      "source": [
        "#La solución correspondiente es:\n",
        "s[0]"
      ],
      "execution_count": 31,
      "outputs": [
        {
          "output_type": "execute_result",
          "data": {
            "text/plain": [
              "array([[1., 0., 0., 0., 0.],\n",
              "       [0., 1., 0., 0., 0.],\n",
              "       [0., 0., 0., 0., 1.],\n",
              "       [1., 0., 0., 0., 0.],\n",
              "       [1., 0., 0., 0., 0.],\n",
              "       [1., 0., 0., 0., 0.],\n",
              "       [0., 0., 0., 1., 0.],\n",
              "       [1., 0., 0., 0., 0.],\n",
              "       [0., 1., 0., 0., 0.],\n",
              "       [0., 1., 0., 0., 0.],\n",
              "       [0., 1., 0., 0., 0.],\n",
              "       [0., 1., 0., 0., 0.],\n",
              "       [0., 0., 0., 0., 1.],\n",
              "       [0., 1., 0., 0., 0.],\n",
              "       [0., 0., 1., 0., 0.],\n",
              "       [1., 0., 0., 0., 0.],\n",
              "       [0., 0., 0., 1., 0.],\n",
              "       [0., 0., 1., 0., 0.],\n",
              "       [0., 0., 1., 0., 0.],\n",
              "       [0., 0., 0., 1., 0.],\n",
              "       [0., 0., 0., 1., 0.],\n",
              "       [0., 0., 1., 0., 0.],\n",
              "       [0., 0., 0., 0., 1.],\n",
              "       [0., 0., 1., 0., 0.],\n",
              "       [0., 0., 1., 0., 0.],\n",
              "       [0., 0., 0., 1., 0.],\n",
              "       [0., 0., 0., 1., 0.],\n",
              "       [0., 0., 0., 0., 1.],\n",
              "       [0., 0., 0., 0., 1.],\n",
              "       [0., 0., 0., 0., 1.]])"
            ]
          },
          "metadata": {
            "tags": []
          },
          "execution_count": 31
        }
      ]
    },
    {
      "cell_type": "markdown",
      "metadata": {
        "colab_type": "text",
        "id": "eTFWUJQrtGcv"
      },
      "source": [
        "9.Enumera las referencias que has utilizado(si ha sido necesario) para llevar a cabo el trabajo"
      ]
    },
    {
      "cell_type": "markdown",
      "metadata": {
        "id": "YKQ_mRBttWsP",
        "colab_type": "text"
      },
      "source": [
        "Respuesta"
      ]
    },
    {
      "cell_type": "markdown",
      "metadata": {
        "id": "d0UGt8NIcyRi",
        "colab_type": "text"
      },
      "source": [
        "Como señale anteriormente me base en un paper titulado\n",
        "A binary grey wolf optimizer for the multidimensional knaspack problem --- Kaiping Luo, Qiuhong Zhao"
      ]
    },
    {
      "cell_type": "markdown",
      "metadata": {
        "id": "kAkDPUyRtYyH",
        "colab_type": "text"
      },
      "source": [
        "10.Describe brevemente las lineas de como crees que es posible avanzar en el estudio del problema. Ten en cuenta incluso posibles variaciones del problema y/o variaciones al alza del tamaño"
      ]
    },
    {
      "cell_type": "markdown",
      "metadata": {
        "id": "IE0uZmo-tZu-",
        "colab_type": "text"
      },
      "source": [
        "Respuesta"
      ]
    },
    {
      "cell_type": "markdown",
      "metadata": {
        "id": "kh_gwL_sc5E9",
        "colab_type": "text"
      },
      "source": [
        "Se me ocurren 2 formas de mejorar el algoritmos:    \n",
        "1- Mejorar la función de reparación. En este trabajo la realice aleatoriamente, sin embargo, creo que se podría hacer un análisis de como reparar de forma\n",
        "eficiente soluciones infactibles de tal manera que la probabilidad de encontrar mejores soluciones aumente    \n",
        "2- Podríamos automatizar el tunning de parámetros. Este algoritmo en particular tiene 2 parámetros principales, las iteraciones y los lobos.\n",
        "Se me ocurre que en vez de poner un número fijo a la población, podría hacer un algoritmo que vaya aumentando de acuerdo a los resultados,\n",
        "por ejemplo, si llevo 100 iteraciones obteniendo el mismo resultado podría aumentar la población. De misma forma que si el algoritmo esta mejorando constantemente\n",
        "los resultados no deberiamos agregar más elementos a la población, así podríamos hacer más eficiente el algoritmo."
      ]
    }
  ]
}
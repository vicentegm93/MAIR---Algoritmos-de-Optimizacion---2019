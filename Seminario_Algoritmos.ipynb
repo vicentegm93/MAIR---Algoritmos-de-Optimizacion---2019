{
  "nbformat": 4,
  "nbformat_minor": 0,
  "metadata": {
    "colab": {
      "name": "Seminario - Algoritmos.ipynb",
      "provenance": [],
      "collapsed_sections": [],
      "include_colab_link": true
    },
    "kernelspec": {
      "name": "python3",
      "display_name": "Python 3"
    }
  },
  "cells": [
    {
      "cell_type": "markdown",
      "metadata": {
        "id": "view-in-github",
        "colab_type": "text"
      },
      "source": [
        "<a href=\"https://colab.research.google.com/github/vicentegm93/MAIR---Algoritmos-de-Optimizacion---2019/blob/master/Seminario_Algoritmos.ipynb\" target=\"_parent\"><img src=\"https://colab.research.google.com/assets/colab-badge.svg\" alt=\"Open In Colab\"/></a>"
      ]
    },
    {
      "cell_type": "markdown",
      "metadata": {
        "id": "hVbXYX-RfPWh",
        "colab_type": "text"
      },
      "source": [
        "# Algoritmos de optimización - Seminario<br>\n",
        "Nombre y Apellidos:   <br>\n",
        "Url: https://github.com/.../03MAIR---Algoritmos-de-Optimizacion---2019/tree/master/SEMINARIO<br>\n",
        "Problema:\n",
        "> 1. Sesiones de doblaje <br>\n",
        "\n",
        "\n",
        "Descripción del problema:\n",
        "\n",
        "Se precisa coordinar el doblaje de una película. Los actores del doblaje deben coincidir en las\n",
        "tomas en las que sus personajes aparecen juntos en las diferentes tomas. Los actores de\n",
        "doblaje cobran todos la misma cantidad por cada día que deben desplazarse hasta el estudio\n",
        "de grabación independientemente del número de tomas que se graben. No es posible grabar\n",
        "más de 6 tomas por día. El objetivo es planificar las sesiones por día de manera que se gasto\n",
        "por los servicios de los actores de doblaje sea el menor posible.\n",
        "\n",
        "(*) La respuesta es obligatoria\n",
        "\n",
        "\n",
        "\n",
        "\n",
        "\n",
        "                                        "
      ]
    },
    {
      "cell_type": "code",
      "metadata": {
        "id": "AiskKkzZfy4e",
        "colab_type": "code",
        "colab": {}
      },
      "source": [
        "import numpy as np\n",
        "from numpy import genfromtxt\n",
        "import random\n",
        "import pandas as pd\n",
        "import math\n",
        "\n",
        "parametros=np.array([[ 1.,  1.,  1.,  1.,  1.,  1.,  0.,  0.,  0.,  0.,  0.],\n",
        "       [ 2.,  0.,  0.,  1.,  1.,  1.,  0.,  0.,  0.,  0.,  0.],\n",
        "       [ 3.,  0.,  1.,  0.,  0.,  1.,  0.,  1.,  0.,  0.,  0.],\n",
        "       [ 4.,  1.,  1.,  0.,  0.,  0.,  0.,  1.,  1.,  0.,  0.],\n",
        "       [ 5.,  0.,  1.,  0.,  1.,  0.,  0.,  0.,  1.,  0.,  0.],\n",
        "       [ 6.,  1.,  1.,  0.,  1.,  1.,  0.,  0.,  0.,  0.,  0.],\n",
        "       [ 7.,  1.,  1.,  0.,  1.,  1.,  0.,  0.,  0.,  0.,  0.],\n",
        "       [ 8.,  1.,  1.,  0.,  0.,  0.,  1.,  0.,  0.,  0.,  0.],\n",
        "       [ 9.,  1.,  1.,  0.,  1.,  0.,  0.,  0.,  0.,  0.,  0.],\n",
        "       [10.,  1.,  1.,  0.,  0.,  0.,  1.,  0.,  0.,  1.,  0.],\n",
        "       [11.,  1.,  1.,  1.,  0.,  1.,  0.,  0.,  1.,  0.,  0.],\n",
        "       [12.,  1.,  1.,  1.,  1.,  0.,  1.,  0.,  0.,  0.,  0.],\n",
        "       [13.,  1.,  0.,  0.,  1.,  1.,  0.,  0.,  0.,  0.,  0.],\n",
        "       [14.,  1.,  0.,  1.,  0.,  0.,  1.,  0.,  0.,  0.,  0.],\n",
        "       [15.,  1.,  1.,  0.,  0.,  0.,  0.,  1.,  0.,  0.,  0.],\n",
        "       [16.,  0.,  0.,  0.,  1.,  0.,  0.,  0.,  0.,  0.,  1.],\n",
        "       [17.,  1.,  0.,  1.,  0.,  0.,  0.,  0.,  0.,  0.,  0.],\n",
        "       [18.,  0.,  0.,  1.,  0.,  0.,  1.,  0.,  0.,  0.,  0.],\n",
        "       [19.,  1.,  0.,  1.,  0.,  0.,  0.,  0.,  0.,  0.,  0.],\n",
        "       [20.,  1.,  0.,  1.,  1.,  1.,  0.,  0.,  0.,  0.,  0.],\n",
        "       [21.,  0.,  0.,  0.,  0.,  0.,  1.,  0.,  1.,  0.,  0.],\n",
        "       [22.,  1.,  1.,  1.,  1.,  0.,  0.,  0.,  0.,  0.,  0.],\n",
        "       [23.,  1.,  0.,  1.,  0.,  0.,  0.,  0.,  0.,  0.,  0.],\n",
        "       [24.,  0.,  0.,  1.,  0.,  0.,  1.,  0.,  0.,  0.,  0.],\n",
        "       [25.,  1.,  1.,  0.,  1.,  0.,  0.,  0.,  0.,  0.,  1.],\n",
        "       [26.,  1.,  0.,  1.,  0.,  1.,  0.,  0.,  0.,  1.,  0.],\n",
        "       [27.,  0.,  0.,  0.,  1.,  1.,  0.,  0.,  0.,  0.,  0.],\n",
        "       [28.,  1.,  0.,  0.,  1.,  0.,  0.,  0.,  0.,  0.,  0.],\n",
        "       [29.,  1.,  0.,  0.,  0.,  1.,  1.,  0.,  0.,  0.,  0.],\n",
        "       [30.,  1.,  0.,  0.,  1.,  0.,  0.,  0.,  0.,  0.,  0.]])"
      ],
      "execution_count": 0,
      "outputs": []
    },
    {
      "cell_type": "markdown",
      "metadata": {
        "id": "3_-exlrTgLd-",
        "colab_type": "text"
      },
      "source": [
        "1.(*)¿Cuantas posibilidades hay sin tener en cuenta las restricciones?<br>\n",
        "\n",
        "\n",
        "\n",
        "¿Cuantas posibilidades hay teniendo en cuenta todas las restricciones.\n",
        "\n",
        "\n"
      ]
    },
    {
      "cell_type": "markdown",
      "metadata": {
        "id": "WfCUqJyKhPcw",
        "colab_type": "text"
      },
      "source": [
        "Respuesta"
      ]
    },
    {
      "cell_type": "code",
      "metadata": {
        "id": "iq6Fe32MgpDX",
        "colab_type": "code",
        "colab": {}
      },
      "source": [
        "Suponiendo que se mantiene la cantidad máximas de números de días, ya que de otra forma las posibilidades serían infinitas, el número de posibilidades sería :\n"
      ],
      "execution_count": 0,
      "outputs": []
    },
    {
      "cell_type": "markdown",
      "metadata": {
        "id": "dzynfVJahHoY",
        "colab_type": "text"
      },
      "source": [
        "2.Modelo para el espacio de soluciones<br>\n",
        "(*) ¿Cual es la estructura de datos que mejor se adapta al problema? Argumentalo.(Es posible que hayas elegido una al principio y veas la necesidad de cambiar, arguentalo)\n"
      ]
    },
    {
      "cell_type": "markdown",
      "metadata": {
        "id": "xFIJrOwKi2Ti",
        "colab_type": "text"
      },
      "source": [
        "Respuesta"
      ]
    },
    {
      "cell_type": "code",
      "metadata": {
        "id": "38c-7-ejhJmA",
        "colab_type": "code",
        "colab": {}
      },
      "source": [
        "La estructura de datos seleccionada para dar solución al problema es una matriz de dos dimensiones.\n",
        "Esta muestra los días en que las tomas seran grabadas, es decir, Zjk: 1 si se graba la toma j el dia k, 0 si no.\n",
        "Obtenida esta matriz podemos saber que tomas se grabaran cada día. Sabiendo que toma se grabara cadad día sabremos que actores necesitarán ir, ya que \n",
        "tenemos la matriz \"parametros\" la que tiene como información que actores necesita cada toma.\n",
        "Haciendo el cruze de estas dos tablas sabremos que días tendrán que asistir cada uno de los actores"
      ],
      "execution_count": 0,
      "outputs": []
    },
    {
      "cell_type": "markdown",
      "metadata": {
        "id": "7Z9U2W7bi-XS",
        "colab_type": "text"
      },
      "source": [
        "3.## Según el modelo para el espacio de soluciones<br>\n",
        "(*)¿Cual es la función objetivo?\n",
        "\n",
        "(*)¿Es un problema de maximización o minimización?"
      ]
    },
    {
      "cell_type": "markdown",
      "metadata": {
        "id": "hBalWLM7j1_d",
        "colab_type": "text"
      },
      "source": [
        "Respuesta"
      ]
    },
    {
      "cell_type": "code",
      "metadata": {
        "id": "pDA-rg3Gj5Lz",
        "colab_type": "code",
        "colab": {}
      },
      "source": [
        "La función objetivo es MINIMIZAR la cantidad de dias que los actores deben asistir a grabar\n",
        "Antes de haber subido la plantilla intente modelar el problema, definiendo su f.o sus variables y restricciones, lo dejo a continuación....\n",
        "\n",
        "Parámetros:\n",
        "- Aij : 1 si el actor i participa en la toma j, 0 si no \n",
        "\n",
        "Variables:\n",
        "\n",
        "- Zjk: 1 si se graba la toma j el dia k, 0 si no\n",
        "- Yik: 1 si el actor i asiste el día k a grabar\n",
        "\n",
        "Conjutos:\n",
        "\n",
        "- I: conjunto de actores\n",
        "- J: conjunto de tomas\n",
        "- K: conjunto de días\n",
        "\n",
        "Función objetivo:\n",
        "\n",
        "- Minimizar sumi sumk  Yik\n",
        "\n",
        "Restricciones:\n",
        "\n",
        "- sumk Zjk= 1 para todas las tomas pertenecientes J    ---- las tomas pueden ser tomadas un solo día\n",
        "\n",
        "- sumj Zjk <= 6 para todos los días pertenecientes K ---- se pueden tomar máximo 6 tomas por día\n",
        "\n",
        "- sum  Zjk*Aij <= Yik  para todos los actores I,  para todos los días K, para todas las tomas J ----- si se graba una toma un día entonces los actores de esa toma deben ir ese día\n",
        "\n",
        "- Zjk e (0,1)  para todo las tomas perteneciente J y para todos los dias pertenecientes a K  ---- restricción de dominio\n"
      ],
      "execution_count": 0,
      "outputs": []
    },
    {
      "cell_type": "markdown",
      "metadata": {
        "id": "rlnTYgY1j6I2",
        "colab_type": "text"
      },
      "source": [
        "4.Diseña un algoritmo para resolver el problema por fuerza bruta"
      ]
    },
    {
      "cell_type": "markdown",
      "metadata": {
        "id": "70rDgxYXkC8r",
        "colab_type": "text"
      },
      "source": [
        "Respuesta"
      ]
    },
    {
      "cell_type": "code",
      "metadata": {
        "id": "CJb5sQ0qkENy",
        "colab_type": "code",
        "colab": {}
      },
      "source": [
        ""
      ],
      "execution_count": 0,
      "outputs": []
    },
    {
      "cell_type": "markdown",
      "metadata": {
        "id": "tgrnsC2nkFa8",
        "colab_type": "text"
      },
      "source": [
        "5.Calcula la complejidad del algoritmo por fuerza bruta"
      ]
    },
    {
      "cell_type": "markdown",
      "metadata": {
        "id": "9eUd3xwckP68",
        "colab_type": "text"
      },
      "source": [
        "Respuesta"
      ]
    },
    {
      "cell_type": "code",
      "metadata": {
        "id": "rvZWwL-ckRST",
        "colab_type": "code",
        "colab": {}
      },
      "source": [
        ""
      ],
      "execution_count": 0,
      "outputs": []
    },
    {
      "cell_type": "markdown",
      "metadata": {
        "id": "txbrmLmskReM",
        "colab_type": "text"
      },
      "source": [
        "6.(*)Diseña un algoritmo que mejore la complejidad del algortimo por fuerza bruta. Argumenta porque crees que mejora el algoritmo por fuerza bruta"
      ]
    },
    {
      "cell_type": "markdown",
      "metadata": {
        "id": "hLrVwt5QkZPD",
        "colab_type": "text"
      },
      "source": [
        "Respuesta"
      ]
    },
    {
      "cell_type": "code",
      "metadata": {
        "id": "m1eyM21Vkabg",
        "colab_type": "code",
        "colab": {}
      },
      "source": [
        "Encontré un paper de una metaheruistica poblacional que se basa en como cazan los lobos grises (dejo link de paper en referencia).\n",
        "Realizaré una breve explicación de este fenomeno y también a través del código ire comentando\n",
        "Los lobos grises cazan en manada, manada que posee una jerarquía.\n",
        "Existen 3 lobos lideres (a,b,g) que son los que mas influyen en la caza de la presa, el resto simplemente ayuda en la búsqueda.\n",
        "En la metaheuristica esto se ve reflejado en que cada lobo representa una posible solución, así se puede definir que los lobos lideres son los lobos que poseen la mejor F.O, quienes influenciarán \n",
        "de mayor forma en la solución."
      ],
      "execution_count": 0,
      "outputs": []
    },
    {
      "cell_type": "code",
      "metadata": {
        "id": "9v5eU8NwJzJg",
        "colab_type": "code",
        "colab": {}
      },
      "source": [
        "def generadorSolucion(lobos):\n",
        "    soluciones=[]\n",
        "    for i in range (lobos):\n",
        "        #genero una matriz la cual guardará que días se grabaran las tomas. \n",
        "        solucion=np.zeros((30,5))\n",
        "        for j in range (5):\n",
        "            cumple=False\n",
        "            while cumple==False:\n",
        "                for i in range (30):\n",
        "                #Agrego la componente random para decidir si realizar la toma i en el día j. \n",
        "                # El valor para aceptarlo lo decidi ya que para valores cercanos al 0.5 el algoritmo tomaba las primeras tomas\n",
        "                #en los primeros días en la mayoría de las veces por lo que había poca variabilidad \"se estancaba facilmente\"\n",
        "                #Además se agrego la condición de que si la toma ya había asignada a un día esta no fuera asignada a otro\n",
        "                    if random.random()<0.3 and  solucion[i,:].sum()==0:\n",
        "                        solucion[i][j]=1\n",
        "                    #Acá verifico que si es que el día tiene 6 tomas asignadas, entonces salga del ciclo for y siga con otro día\n",
        "                        if solucion[:,j].sum()==6:\n",
        "                            break\n",
        "            #Como tome la determinación de bajar la probabilidad de que una toma fuera asignada a un día, para aumentar la\n",
        "            #variabilidad, ocurre que muchos días quedan asignados con 1 toma lo que obviamente es ineficiente.\n",
        "            #para evitar a esto fuerzo al algoritmo a que asigne 6 tomas por día\n",
        "                if solucion[:,j].sum()==6:\n",
        "                    cumple=True\n",
        "        #A cada solucion adjunto su costo, ya que en el algoritmo lo utilizaré para ordenar las soluciones de acuerdo a su fo\n",
        "        solucion=solucion,costo(solucion,parametros)\n",
        "        soluciones.append(solucion)\n",
        "    return soluciones\n",
        "\n",
        "def costo(solucion,parametros):\n",
        "    fo=0\n",
        "    #Verifico las tomas para cada día\n",
        "    for j in range (5):\n",
        "        asistencia=np.zeros(10)\n",
        "        tomas=np.array(np.where(solucion[:,j]==1))\n",
        "        #sumo la prescencia de los actores en todas las tomas que participan\n",
        "        for i in range(len(tomas[0])):\n",
        "            asistencia=asistencia+parametros[int(tomas[0][i])-1,1:]\n",
        "        #como el costo es el mismo para cada actor para un mismo día independiente de la cantidad de tomas en las que participe, solo \n",
        "        #cuento en donde haya estado el actor en al menos una escena y lo sumo al valor de la fo\n",
        "        c=np.count_nonzero(asistencia)\n",
        "        fo+=c    \n",
        "    return fo\n",
        "\n",
        "def posicionPresa(listaLobos,t,iteraciones):\n",
        "    #for i in range (len(listaLobos)):\n",
        "        #print('problema',listaLobos[i])\n",
        "        #a=costo(listaLobos[i],parametros)\n",
        "        #listaLobos[i]=listaLobos[i],a\n",
        "    listaLobos.sort(key=lambda x: x[1],reverse=False)\n",
        "    suma=listaLobos[0][1]+listaLobos[1][1]+listaLobos[2][1]\n",
        "    wa= listaLobos[0][1]/suma\n",
        "    wb= listaLobos[1][1]/suma\n",
        "    wc= listaLobos[2][1]/suma\n",
        "    posicionPresa= wa*listaLobos[0][0]+wb*listaLobos[1][0]+wc*listaLobos[2][0] + math.exp(-100*(t/iteraciones))\n",
        "    return posicionPresa\n",
        "\n",
        "def generadorSoluciondePrueba(posicionPresa,posicionLobo):\n",
        "    #print(posicionPresa)\n",
        "    #print(posicionLobo)\n",
        "    solucionPrueba=np.zeros((30,5))\n",
        "    j=0\n",
        "    for i in range(len(posicionPresa)):\n",
        "        for j in range(len(posicionPresa[0])):\n",
        "            y = posicionPresa[i][j]-random.uniform(-2,2)* abs(posicionPresa[i][j]-posicionLobo[i][j])\n",
        "            if (random.uniform(0,1) < abs(np.tanh(y)) and solucionPrueba[i,:].sum()==0 and solucionPrueba[:,j].sum()<=5):\n",
        "                solucionPrueba[i][j]=1\n",
        "            else:\n",
        "                solucionPrueba[i][j]=0\n",
        "    return solucionPrueba \n",
        "\n",
        "def reparacion(solucionPrueba):\n",
        "    for j in range(5):\n",
        "            for i in range(30):\n",
        "                if solucionPrueba[:,j].sum()<=5:\n",
        "                    if solucionPrueba[i,:].sum()==0:\n",
        "                        solucionPrueba[i,j]=1\n",
        "                else:\n",
        "                    break\n",
        "    solucionPrueba=solucionPrueba,costo(solucionPrueba,parametros)\n",
        "    return solucionPrueba\n",
        "\n",
        "def resolucion(iteraciones,lobos):\n",
        "    listaLobos=generadorSolucion(lobos)\n",
        "    for t in range(iteraciones):\n",
        "        presa=posicionPresa(listaLobos,t,iteraciones) #estimo posición presa\n",
        "        for k in range (lobos):\n",
        "            solucionPrueba=generadorSoluciondePrueba(presa,listaLobos[k][0]) #genero solución de prueba\n",
        "            solucionCorregida=reparacion(solucionPrueba) #reparo la solución de prueba\n",
        "            if solucionCorregida[1] < listaLobos[k][1]: #si solución de prueba corregida tiene mejor F.O que lobo actual lo reemplazo\n",
        "                listaLobos[k]=solucionCorregida\n",
        "                if listaLobos[k][1]<listaLobos[0][1]: #si lobo actual tiene mejor F.O que lobo líder actualizo lobo líder\n",
        "                    listaLobos[0]=listaLobos[k]\n",
        "                elif listaLobos[k][1]<listaLobos[1][1]: #si lobo actual tiene mejor F.O que 2do lobo líder actualizo 2do lobo líder\n",
        "                    listaLobos[1]=listaLobos[k]\n",
        "                elif listaLobos[k][1]<listaLobos[2][1]:#si lobo actual tiene mejor F.O que 3er lobo líder actualizo 2do lobo líder\n",
        "                    listaLobos[2]=listaLobos[k]\n",
        "            elif k!=0 and k!=1 and k!=2: #si el lobo actual no es líder, se actualiza la posición del lobo actual con la solución corregida\n",
        "                listaLobos[k]=solucionCorregida\n",
        "    return listaLobos[0]"
      ],
      "execution_count": 0,
      "outputs": []
    },
    {
      "cell_type": "code",
      "metadata": {
        "id": "JyPk4Kp8OxPD",
        "colab_type": "code",
        "colab": {
          "base_uri": "https://localhost:8080/",
          "height": 521
        },
        "outputId": "d25d49cc-2099-4ce4-98b4-ad6a98a59f88"
      },
      "source": [
        "s=resolucion(10,3)"
      ],
      "execution_count": 23,
      "outputs": [
        {
          "output_type": "execute_result",
          "data": {
            "text/plain": [
              "(array([[1., 0., 0., 0., 0.],\n",
              "        [1., 0., 0., 0., 0.],\n",
              "        [1., 0., 0., 0., 0.],\n",
              "        [1., 0., 0., 0., 0.],\n",
              "        [1., 0., 0., 0., 0.],\n",
              "        [0., 1., 0., 0., 0.],\n",
              "        [1., 0., 0., 0., 0.],\n",
              "        [0., 1., 0., 0., 0.],\n",
              "        [0., 1., 0., 0., 0.],\n",
              "        [0., 1., 0., 0., 0.],\n",
              "        [0., 1., 0., 0., 0.],\n",
              "        [0., 1., 0., 0., 0.],\n",
              "        [0., 0., 0., 1., 0.],\n",
              "        [0., 0., 1., 0., 0.],\n",
              "        [0., 0., 0., 1., 0.],\n",
              "        [0., 0., 1., 0., 0.],\n",
              "        [0., 0., 1., 0., 0.],\n",
              "        [0., 0., 1., 0., 0.],\n",
              "        [0., 0., 1., 0., 0.],\n",
              "        [0., 0., 0., 0., 1.],\n",
              "        [0., 0., 0., 0., 1.],\n",
              "        [0., 0., 0., 1., 0.],\n",
              "        [0., 0., 0., 1., 0.],\n",
              "        [0., 0., 0., 0., 1.],\n",
              "        [0., 0., 0., 1., 0.],\n",
              "        [0., 0., 0., 1., 0.],\n",
              "        [0., 0., 0., 0., 1.],\n",
              "        [0., 0., 0., 0., 1.],\n",
              "        [0., 0., 0., 0., 1.],\n",
              "        [0., 0., 1., 0., 0.]]), 35)"
            ]
          },
          "metadata": {
            "tags": []
          },
          "execution_count": 23
        }
      ]
    },
    {
      "cell_type": "markdown",
      "metadata": {
        "id": "eGDB4K6uk1iN",
        "colab_type": "text"
      },
      "source": [
        "7.# (*)Calcula la complejidad del algoritmo "
      ]
    },
    {
      "cell_type": "markdown",
      "metadata": {
        "id": "NhpTh_BPk1ms",
        "colab_type": "text"
      },
      "source": [
        "Respuesta"
      ]
    },
    {
      "cell_type": "code",
      "metadata": {
        "id": "nREzhkStlCq8",
        "colab_type": "code",
        "colab": {}
      },
      "source": [
        ""
      ],
      "execution_count": 0,
      "outputs": []
    },
    {
      "cell_type": "markdown",
      "metadata": {
        "id": "3M6QjTsSkmYe",
        "colab_type": "text"
      },
      "source": [
        "8.Según el problema (y tenga sentido), diseña un juego de datos de entrada aleatorios"
      ]
    },
    {
      "cell_type": "markdown",
      "metadata": {
        "id": "Jc3_OlyNkvjZ",
        "colab_type": "text"
      },
      "source": [
        "Respuesta"
      ]
    },
    {
      "cell_type": "code",
      "metadata": {
        "id": "Fxgpi3YXLcnQ",
        "colab_type": "code",
        "colab": {}
      },
      "source": [
        "generadorSolucion(lobos)"
      ],
      "execution_count": 0,
      "outputs": []
    },
    {
      "cell_type": "markdown",
      "metadata": {
        "id": "zy5ZROmjlGo1",
        "colab_type": "text"
      },
      "source": [
        "Aplica el algoritmo al juego de datos generado"
      ]
    },
    {
      "cell_type": "markdown",
      "metadata": {
        "id": "_Cmj-PVylMsa",
        "colab_type": "text"
      },
      "source": [
        "Respuesta"
      ]
    },
    {
      "cell_type": "code",
      "metadata": {
        "id": "Jkx8GeiYlUz1",
        "colab_type": "code",
        "colab": {}
      },
      "source": [
        ""
      ],
      "execution_count": 0,
      "outputs": []
    },
    {
      "cell_type": "markdown",
      "metadata": {
        "colab_type": "text",
        "id": "eTFWUJQrtGcv"
      },
      "source": [
        "9.Enumera las referencias que has utilizado(si ha sido necesario) para llevar a cabo el trabajo"
      ]
    },
    {
      "cell_type": "markdown",
      "metadata": {
        "id": "YKQ_mRBttWsP",
        "colab_type": "text"
      },
      "source": [
        "Respuesta"
      ]
    },
    {
      "cell_type": "markdown",
      "metadata": {
        "id": "kAkDPUyRtYyH",
        "colab_type": "text"
      },
      "source": [
        "10.Describe brevemente las lineas de como crees que es posible avanzar en el estudio del problema. Ten en cuenta incluso posibles variaciones del problema y/o variaciones al alza del tamaño"
      ]
    },
    {
      "cell_type": "markdown",
      "metadata": {
        "id": "IE0uZmo-tZu-",
        "colab_type": "text"
      },
      "source": [
        "Respuesta"
      ]
    }
  ]
}
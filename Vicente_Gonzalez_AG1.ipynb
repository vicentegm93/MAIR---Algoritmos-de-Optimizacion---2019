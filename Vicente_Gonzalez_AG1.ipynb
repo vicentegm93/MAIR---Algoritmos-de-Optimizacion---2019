{
  "nbformat": 4,
  "nbformat_minor": 0,
  "metadata": {
    "colab": {
      "name": "Vicente Gonzalez- AG1.ipynb",
      "provenance": [],
      "include_colab_link": true
    },
    "kernelspec": {
      "name": "python3",
      "display_name": "Python 3"
    }
  },
  "cells": [
    {
      "cell_type": "markdown",
      "metadata": {
        "id": "view-in-github",
        "colab_type": "text"
      },
      "source": [
        "<a href=\"https://colab.research.google.com/github/vicentegm93/MAIR---Algoritmos-de-Optimizacion---2019/blob/master/Vicente_Gonzalez_AG1.ipynb\" target=\"_parent\"><img src=\"https://colab.research.google.com/assets/colab-badge.svg\" alt=\"Open In Colab\"/></a>"
      ]
    },
    {
      "cell_type": "markdown",
      "metadata": {
        "id": "WV_5JiFiLSWh",
        "colab_type": "text"
      },
      "source": [
        "Actividad Guiada 1 de Algoritmo de optimización </br>\n",
        "Vicente Gonzalez </br>\n",
        "https://colab.research.google.com/github/vicentegm93/MAIR---Algoritmos-de-Optimizacion---2019/blob/master/AG1/hanoi.ipynb </br>\n",
        "https://github.com/vicentegm93/MAIR---Algoritmos-de-Optimizacion---2019/tree/master/AG1\n"
      ]
    },
    {
      "cell_type": "code",
      "metadata": {
        "id": "9UHiwYQ8VKor",
        "colab_type": "code",
        "outputId": "06ce0052-9944-43ac-a7c0-e932d7e9633f",
        "colab": {
          "base_uri": "https://localhost:8080/",
          "height": 272
        }
      },
      "source": [
        "def torres (n,desde,hasta):\n",
        "  if n==1:\n",
        "    print (\"LLevar desde torre \"+str(desde)+\" hasta \"+str(hasta))\n",
        "  else:\n",
        "    torres(n-1,desde, 6-desde-hasta)\n",
        "    print (\"LLevar desde torre \"+str(desde)+\" hasta \"+str(hasta))\n",
        "    torres(n-1,6-desde-hasta,hasta)\n",
        "\n",
        "torres(4,1,3)"
      ],
      "execution_count": 1,
      "outputs": [
        {
          "output_type": "stream",
          "text": [
            "LLevar desde torre 1 hasta 2\n",
            "LLevar desde torre 1 hasta 3\n",
            "LLevar desde torre 2 hasta 3\n",
            "LLevar desde torre 1 hasta 2\n",
            "LLevar desde torre 3 hasta 1\n",
            "LLevar desde torre 3 hasta 2\n",
            "LLevar desde torre 1 hasta 2\n",
            "LLevar desde torre 1 hasta 3\n",
            "LLevar desde torre 2 hasta 3\n",
            "LLevar desde torre 2 hasta 1\n",
            "LLevar desde torre 3 hasta 1\n",
            "LLevar desde torre 2 hasta 3\n",
            "LLevar desde torre 1 hasta 2\n",
            "LLevar desde torre 1 hasta 3\n",
            "LLevar desde torre 2 hasta 3\n"
          ],
          "name": "stdout"
        }
      ]
    },
    {
      "cell_type": "code",
      "metadata": {
        "id": "Ead-bFNVLPYb",
        "colab_type": "code",
        "colab": {}
      },
      "source": [
        "# nreinas\n",
        "def reinas (N, solución,etapa):\n",
        "  for i in range (1, N+1):\n",
        "    solucion[etapa]=i\n",
        "\n",
        "    #print(solucion)\n",
        "    if es_prometedora(solucion,etapa):\n",
        "      if etapa== N-1:\n",
        "        print(\"\\n\\nLa solucion es: \")\n",
        "        print(solucion)\n",
        "        #escribe(solucion)\n",
        "      else:\n",
        "        reinas(N,solucion,etapa+1)\n",
        "    else:\n",
        "      None\n",
        "    solucion[etapa]=0"
      ],
      "execution_count": 0,
      "outputs": []
    },
    {
      "cell_type": "code",
      "metadata": {
        "id": "8BAdkcVBO9JF",
        "colab_type": "code",
        "colab": {}
      },
      "source": [
        "def es_prometedora(SOLUCION,etapa):\n",
        "  for i in range(etapa+1):\n",
        "    if SOLUCION.count(SOLUCION[i])>1:\n",
        "      return False\n",
        "    for j in range(i+1, etapa+1):\n",
        "      if abs(i-j)==abs(SOLUCION [i]-SOLUCION[j]):\n",
        "        return False\n",
        "  return True"
      ],
      "execution_count": 0,
      "outputs": []
    },
    {
      "cell_type": "code",
      "metadata": {
        "id": "rOtsl9uIPiTZ",
        "colab_type": "code",
        "outputId": "64897b5c-63bf-4e3f-b747-8eecfbb6f637",
        "colab": {
          "base_uri": "https://localhost:8080/",
          "height": 153
        }
      },
      "source": [
        "solucion=[0,0,0,0]\n",
        "reinas(4,solucion,0)"
      ],
      "execution_count": 4,
      "outputs": [
        {
          "output_type": "stream",
          "text": [
            "\n",
            "\n",
            "La solucion es: \n",
            "[2, 4, 1, 3]\n",
            "\n",
            "\n",
            "La solucion es: \n",
            "[3, 1, 4, 2]\n"
          ],
          "name": "stdout"
        }
      ]
    },
    {
      "cell_type": "code",
      "metadata": {
        "id": "wJPtXTiWP0VY",
        "colab_type": "code",
        "colab": {}
      },
      "source": [
        "# Dos puntos más cercanos\n",
        "import random \n",
        "import math\n",
        "LISTA_1D=[random.randrange(1,10000) for x in range(1000)]\n",
        "LISTA_2D=[(random.randrange(1,10000),random.randrange(1,10000)) for x in range(11)]"
      ],
      "execution_count": 0,
      "outputs": []
    },
    {
      "cell_type": "code",
      "metadata": {
        "id": "eeq0oqasBBK6",
        "colab_type": "code",
        "colab": {}
      },
      "source": [
        "def distancia(A,B):\n",
        "  if type(A) is int or type(A) is float:\n",
        "    return abs(B-A)\n",
        "  else:\n",
        "    #print(A,B)\n",
        "    return math.sqrt(sum([(A[i]-B[i])**2 for i in range(len(A))]))"
      ],
      "execution_count": 0,
      "outputs": []
    },
    {
      "cell_type": "code",
      "metadata": {
        "id": "yAgX4BQw_eE0",
        "colab_type": "code",
        "colab": {}
      },
      "source": [
        "def fuerza_bruta(L):\n",
        "  mejor_distancia=1000000e10\n",
        "  A,B=(),()\n",
        "  for i in range (len(L)):\n",
        "    for j in range (i+1,len(L)):\n",
        "      if distancia(L[i],L[j])<mejor_distancia:\n",
        "        A,B=L[i],L[j]\n",
        "  return A,B"
      ],
      "execution_count": 0,
      "outputs": []
    },
    {
      "cell_type": "code",
      "metadata": {
        "id": "CAqOexTG_5vo",
        "colab_type": "code",
        "colab": {}
      },
      "source": [
        "def divide_y_venceras(L):\n",
        "  if len(L)<=10:\n",
        "    return fuerza_bruta(L)\n",
        "  pivote=sum([L[i][0] for i in range(len(L))])/len(L)\n",
        "  LISTA_IZQ=sorted(L,key=lambda x:x[0])[:len(L)//2]\n",
        "  LISTA_DER=sorted(L,key=lambda x:x[0])[len(L)//2]\n",
        "  return divide_y_venceras(divide_y_venceras(LISTA_IZQ)+ (divide_y_venceras(LISTA_DER),))"
      ],
      "execution_count": 0,
      "outputs": []
    },
    {
      "cell_type": "code",
      "metadata": {
        "id": "HZtO105ED1Au",
        "colab_type": "code",
        "colab": {
          "base_uri": "https://localhost:8080/",
          "height": 34
        },
        "outputId": "08150a06-3196-4c76-f7d7-d9c376fbfa52"
      },
      "source": [
        "fuerza_bruta(LISTA_1D)"
      ],
      "execution_count": 296,
      "outputs": [
        {
          "output_type": "execute_result",
          "data": {
            "text/plain": [
              "(1052, 5222)"
            ]
          },
          "metadata": {
            "tags": []
          },
          "execution_count": 296
        }
      ]
    },
    {
      "cell_type": "code",
      "metadata": {
        "id": "PMT4GwvKh4QC",
        "colab_type": "code",
        "colab": {
          "base_uri": "https://localhost:8080/",
          "height": 34
        },
        "outputId": "b97cfaa3-b23e-4d64-cc4f-5373c1e7cfd5"
      },
      "source": [
        "divide_y_venceras(LISTA_2D)"
      ],
      "execution_count": 297,
      "outputs": [
        {
          "output_type": "execute_result",
          "data": {
            "text/plain": [
              "((5313, 5113), (5805, 2865))"
            ]
          },
          "metadata": {
            "tags": []
          },
          "execution_count": 297
        }
      ]
    },
    {
      "cell_type": "markdown",
      "metadata": {
        "id": "rpsp1Q2sFFlW",
        "colab_type": "text"
      },
      "source": [
        "La complejidad por fuerza bruta es de n(n-1)/2    \n",
        "La complejidad por divide y venceras es de 2T(n/2)+n\n"
      ]
    },
    {
      "cell_type": "code",
      "metadata": {
        "id": "7ZgRBpxVL9g6",
        "colab_type": "code",
        "colab": {}
      },
      "source": [
        ""
      ],
      "execution_count": 0,
      "outputs": []
    }
  ]
}
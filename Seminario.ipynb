{
  "nbformat": 4,
  "nbformat_minor": 0,
  "metadata": {
    "colab": {
      "name": "Seminario.ipynb",
      "provenance": [],
      "authorship_tag": "ABX9TyOzmPj8MgJfEabV40n11GKH",
      "include_colab_link": true
    },
    "kernelspec": {
      "name": "python3",
      "display_name": "Python 3"
    }
  },
  "cells": [
    {
      "cell_type": "markdown",
      "metadata": {
        "id": "view-in-github",
        "colab_type": "text"
      },
      "source": [
        "<a href=\"https://colab.research.google.com/github/vicentegm93/MAIR---Algoritmos-de-Optimizacion---2019/blob/master/Seminario.ipynb\" target=\"_parent\"><img src=\"https://colab.research.google.com/assets/colab-badge.svg\" alt=\"Open In Colab\"/></a>"
      ]
    },
    {
      "cell_type": "markdown",
      "metadata": {
        "id": "SoJm0czM8P1X",
        "colab_type": "text"
      },
      "source": [
        "## Algoritmos de optimización - Seminario\n",
        "Nombre y Apellidos: Vicente González    \n",
        "Url: https://colab.research.google.com/drive/1wWYi5gu4Ixkl5xhefMo6FC1NvOxOPyij  \n",
        "Problema:\n",
        "Sesiones de doblaje\n",
        "\n",
        "Descripción del problema:(copiar enunciado)"
      ]
    },
    {
      "cell_type": "code",
      "metadata": {
        "id": "xL2JB4th8TJ8",
        "colab_type": "code",
        "colab": {}
      },
      "source": [
        ""
      ],
      "execution_count": 0,
      "outputs": []
    }
  ]
}
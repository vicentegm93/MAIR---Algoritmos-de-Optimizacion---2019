{
  "nbformat": 4,
  "nbformat_minor": 0,
  "metadata": {
    "colab": {
      "name": "Vicente Gonzalez- AG1.ipynb",
      "provenance": [],
      "include_colab_link": true
    },
    "kernelspec": {
      "name": "python3",
      "display_name": "Python 3"
    }
  },
  "cells": [
    {
      "cell_type": "markdown",
      "metadata": {
        "id": "view-in-github",
        "colab_type": "text"
      },
      "source": [
        "<a href=\"https://colab.research.google.com/github/vicentegm93/MAIR---Algoritmos-de-Optimizacion---2019/blob/master/AG1/hanoi.ipynb\" target=\"_parent\"><img src=\"https://colab.research.google.com/assets/colab-badge.svg\" alt=\"Open In Colab\"/></a>"
      ]
    },
    {
      "cell_type": "markdown",
      "metadata": {
        "id": "WV_5JiFiLSWh",
        "colab_type": "text"
      },
      "source": [
        "Actividad Guiada 1 de Algoritmo de optimización </br>\n",
        "Vicente Gonzalez </br>\n",
        "https://colab.research.google.com/github/vicentegm93/MAIR---Algoritmos-de-Optimizacion---2019/blob/master/AG1/hanoi.ipynb </br>\n",
        "https://github.com/vicentegm93/MAIR---Algoritmos-de-Optimizacion---2019/tree/master/AG1\n"
      ]
    },
    {
      "cell_type": "code",
      "metadata": {
        "id": "9UHiwYQ8VKor",
        "colab_type": "code",
        "outputId": "af213747-78d3-4319-e06e-093c99147e80",
        "colab": {
          "base_uri": "https://localhost:8080/",
          "height": 269
        }
      },
      "source": [
        "def torres (n,desde,hasta):\n",
        "  if n==1:\n",
        "    print (\"LLevar desde torre \"+str(desde)+\" hasta \"+str(hasta))\n",
        "  else:\n",
        "    torres(n-1,desde, 6-desde-hasta)\n",
        "    print (\"LLevar desde torre \"+str(desde)+\" hasta \"+str(hasta))\n",
        "    torres(n-1,6-desde-hasta,hasta)\n",
        "\n",
        "torres(4,1,3)"
      ],
      "execution_count": 0,
      "outputs": [
        {
          "output_type": "stream",
          "text": [
            "LLevar desde torre 1 hasta 2\n",
            "LLevar desde torre 1 hasta 3\n",
            "LLevar desde torre 2 hasta 3\n",
            "LLevar desde torre 1 hasta 2\n",
            "LLevar desde torre 3 hasta 1\n",
            "LLevar desde torre 3 hasta 2\n",
            "LLevar desde torre 1 hasta 2\n",
            "LLevar desde torre 1 hasta 3\n",
            "LLevar desde torre 2 hasta 3\n",
            "LLevar desde torre 2 hasta 1\n",
            "LLevar desde torre 3 hasta 1\n",
            "LLevar desde torre 2 hasta 3\n",
            "LLevar desde torre 1 hasta 2\n",
            "LLevar desde torre 1 hasta 3\n",
            "LLevar desde torre 2 hasta 3\n"
          ],
          "name": "stdout"
        }
      ]
    },
    {
      "cell_type": "code",
      "metadata": {
        "id": "Ead-bFNVLPYb",
        "colab_type": "code",
        "colab": {}
      },
      "source": [
        "# nreinas\n",
        "def reinas (N, solución,etapa):\n",
        "  for i in range (1, N+1):\n",
        "    solucion[etapa]=i\n",
        "\n",
        "    #print(solucion)\n",
        "    if es_prometedora(solucion,etapa):\n",
        "      if etapa== N-1:\n",
        "        print(\"\\n\\nLa solucion es: \")\n",
        "        print(solucion)\n",
        "        #escribe(solucion)\n",
        "      else:\n",
        "        reinas(N,solucion,etapa+1)\n",
        "    else:\n",
        "      None\n",
        "    solucion[etapa]=0"
      ],
      "execution_count": 0,
      "outputs": []
    },
    {
      "cell_type": "code",
      "metadata": {
        "id": "8BAdkcVBO9JF",
        "colab_type": "code",
        "colab": {}
      },
      "source": [
        "def es_prometedora(SOLUCION,etapa):\n",
        "  for i in range(etapa+1):\n",
        "    if SOLUCION.count(SOLUCION[i])>1:\n",
        "      return False\n",
        "    for j in range(i+1, etapa+1):\n",
        "      if abs(i-j)==abs(SOLUCION [i]-SOLUCION[j]):\n",
        "        return False\n",
        "  return True"
      ],
      "execution_count": 0,
      "outputs": []
    },
    {
      "cell_type": "code",
      "metadata": {
        "id": "rOtsl9uIPiTZ",
        "colab_type": "code",
        "colab": {
          "base_uri": "https://localhost:8080/",
          "height": 153
        },
        "outputId": "04af063a-9d42-49b0-bf7d-35edee310cf9"
      },
      "source": [
        "solucion=[0,0,0,0]\n",
        "reinas(4,solucion,0)"
      ],
      "execution_count": 8,
      "outputs": [
        {
          "output_type": "stream",
          "text": [
            "\n",
            "\n",
            "La solucion es: \n",
            "[2, 4, 1, 3]\n",
            "\n",
            "\n",
            "La solucion es: \n",
            "[3, 1, 4, 2]\n"
          ],
          "name": "stdout"
        }
      ]
    },
    {
      "cell_type": "code",
      "metadata": {
        "id": "wJPtXTiWP0VY",
        "colab_type": "code",
        "colab": {}
      },
      "source": [
        ""
      ],
      "execution_count": 0,
      "outputs": []
    }
  ]
}
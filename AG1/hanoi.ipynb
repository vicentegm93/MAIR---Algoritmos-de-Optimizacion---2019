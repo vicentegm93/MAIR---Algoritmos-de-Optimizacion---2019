{
  "nbformat": 4,
  "nbformat_minor": 0,
  "metadata": {
    "colab": {
      "name": "Vicente Gonzalez- AG1.ipynb",
      "provenance": [],
      "include_colab_link": true
    },
    "kernelspec": {
      "name": "python3",
      "display_name": "Python 3"
    }
  },
  "cells": [
    {
      "cell_type": "markdown",
      "metadata": {
        "id": "view-in-github",
        "colab_type": "text"
      },
      "source": [
        "<a href=\"https://colab.research.google.com/github/vicentegm93/MAIR---Algoritmos-de-Optimizacion---2019/blob/master/AG1/hanoi.ipynb\" target=\"_parent\"><img src=\"https://colab.research.google.com/assets/colab-badge.svg\" alt=\"Open In Colab\"/></a>"
      ]
    },
    {
      "cell_type": "markdown",
      "metadata": {
        "id": "WV_5JiFiLSWh",
        "colab_type": "text"
      },
      "source": [
        "Actividad Guiada 1 de Algoritmo de optimización </br>\n",
        "Vicente Gonzalez </br>\n",
        "https://colab.research.google.com/github/vicentegm93/MAIR---Algoritmos-de-Optimizacion---2019/blob/master/AG1/hanoi.ipynb </br>\n",
        "https://github.com/vicentegm93/MAIR---Algoritmos-de-Optimizacion---2019/tree/master/AG1\n"
      ]
    },
    {
      "cell_type": "code",
      "metadata": {
        "id": "9UHiwYQ8VKor",
        "colab_type": "code",
        "colab": {
          "base_uri": "https://localhost:8080/",
          "height": 269
        },
        "outputId": "af213747-78d3-4319-e06e-093c99147e80"
      },
      "source": [
        "def torres (n,desde,hasta):\n",
        "  if n==1:\n",
        "    print (\"LLevar desde torre \"+str(desde)+\" hasta \"+str(hasta))\n",
        "  else:\n",
        "    torres(n-1,desde, 6-desde-hasta)\n",
        "    print (\"LLevar desde torre \"+str(desde)+\" hasta \"+str(hasta))\n",
        "    torres(n-1,6-desde-hasta,hasta)\n",
        "\n",
        "torres(4,1,3)"
      ],
      "execution_count": 1,
      "outputs": [
        {
          "output_type": "stream",
          "text": [
            "LLevar desde torre 1 hasta 2\n",
            "LLevar desde torre 1 hasta 3\n",
            "LLevar desde torre 2 hasta 3\n",
            "LLevar desde torre 1 hasta 2\n",
            "LLevar desde torre 3 hasta 1\n",
            "LLevar desde torre 3 hasta 2\n",
            "LLevar desde torre 1 hasta 2\n",
            "LLevar desde torre 1 hasta 3\n",
            "LLevar desde torre 2 hasta 3\n",
            "LLevar desde torre 2 hasta 1\n",
            "LLevar desde torre 3 hasta 1\n",
            "LLevar desde torre 2 hasta 3\n",
            "LLevar desde torre 1 hasta 2\n",
            "LLevar desde torre 1 hasta 3\n",
            "LLevar desde torre 2 hasta 3\n"
          ],
          "name": "stdout"
        }
      ]
    },
    {
      "cell_type": "code",
      "metadata": {
        "id": "Ead-bFNVLPYb",
        "colab_type": "code",
        "colab": {}
      },
      "source": [
        ""
      ],
      "execution_count": 0,
      "outputs": []
    }
  ]
}
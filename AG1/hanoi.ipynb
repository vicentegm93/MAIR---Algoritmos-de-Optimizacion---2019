{
  "nbformat": 4,
  "nbformat_minor": 0,
  "metadata": {
    "colab": {
      "name": "Vicente Gonzalez- AG1.ipynb",
      "provenance": [],
      "include_colab_link": true
    },
    "kernelspec": {
      "name": "python3",
      "display_name": "Python 3"
    }
  },
  "cells": [
    {
      "cell_type": "markdown",
      "metadata": {
        "id": "view-in-github",
        "colab_type": "text"
      },
      "source": [
        "<a href=\"https://colab.research.google.com/github/vicentegm93/MAIR---Algoritmos-de-Optimizacion---2019/blob/master/AG1/hanoi.ipynb\" target=\"_parent\"><img src=\"https://colab.research.google.com/assets/colab-badge.svg\" alt=\"Open In Colab\"/></a>"
      ]
    },
    {
      "cell_type": "code",
      "metadata": {
        "id": "IzlzAgek3L2R",
        "colab_type": "code",
        "colab": {
          "base_uri": "https://localhost:8080/",
          "height": 272
        },
        "outputId": "b3480fc6-1440-4b65-aaba-a53e4a2744cb"
      },
      "source": [
        "def torres (n,desde,hasta):\n",
        "  if n==1:\n",
        "    print (\"LLevar desde torre \"+str(desde)+\" hasta \"+str(hasta))\n",
        "  else:\n",
        "    torres(n-1,desde, 6-desde-hasta)\n",
        "    print (\"LLevar desde torre \"+str(desde)+\" hasta \"+str(hasta))\n",
        "    torres(n-1,6-desde-hasta,hasta)\n",
        "\n",
        "torres(4,1,3)\n"
      ],
      "execution_count": 3,
      "outputs": [
        {
          "output_type": "stream",
          "text": [
            "LLevar desde torre 1 hasta 2\n",
            "LLevar desde torre 1 hasta 3\n",
            "LLevar desde torre 2 hasta 3\n",
            "LLevar desde torre 1 hasta 2\n",
            "LLevar desde torre 3 hasta 1\n",
            "LLevar desde torre 3 hasta 2\n",
            "LLevar desde torre 1 hasta 2\n",
            "LLevar desde torre 1 hasta 3\n",
            "LLevar desde torre 2 hasta 3\n",
            "LLevar desde torre 2 hasta 1\n",
            "LLevar desde torre 3 hasta 1\n",
            "LLevar desde torre 2 hasta 3\n",
            "LLevar desde torre 1 hasta 2\n",
            "LLevar desde torre 1 hasta 3\n",
            "LLevar desde torre 2 hasta 3\n"
          ],
          "name": "stdout"
        }
      ]
    },
    {
      "cell_type": "code",
      "metadata": {
        "id": "9UHiwYQ8VKor",
        "colab_type": "code",
        "colab": {}
      },
      "source": [
        ""
      ],
      "execution_count": 0,
      "outputs": []
    }
  ]
}